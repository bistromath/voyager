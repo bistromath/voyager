{
 "cells": [
  {
   "cell_type": "code",
   "execution_count": 12,
   "metadata": {},
   "outputs": [],
   "source": [
    "#%matplotlib widget\n",
    "#see https://stackoverflow.com/questions/50149562/jupyterlab-interactive-plot for how to zoom on plots!"
   ]
  },
  {
   "cell_type": "markdown",
   "metadata": {},
   "source": [
    "<h1>Voyager 1 detection from recorded data</h1>\n",
    "<h3>Nick Foster, 2019</h3>\n",
    "\n",
    "This notebook details how to use time integration to locate and detect Voyager 1's signal from a recording. The example recording used here was recorded at the Allen Telescope Array in Hat Creek, CA on July 14, 2010. This recording (in SigMF format) can be found <a href=\"http://setiquest.info/sigmf/\">here</a>. The notebook is general enough to be used with most any recording as long as you provide a valid SigMF header.\n",
    "\n",
    "The Voyager 1 signal at 13,663,774,381 miles from Earth is far too weak to be plainly detectable in a spectrogram, even when using a radiotelescope array like the ATA, although world-class dishes such as the Goldstone observatory will be able to detect it strongly enough to see without further processing. Instead, to bring the signal out of the noise, we integrate over time. If we integrate for long enough, the power in the frequency bin corresponding to Voyager 1's carrier will increase enough to be detectable.\n",
    "\n",
    "One problem with this approach is that we don't immediately know exactly where (in frequency) to look for the signal, due to <a href=https://en.wikipedia.org/wiki/Doppler_shift>Doppler shift</a>. There are three major sources of Doppler shift in this instance:\n",
    "\n",
    "* Voyager 1's velocity relative to the Solar System (currently 38,026.77 mph)\n",
    "* Voyager 1's velocity relative to Earth's orbit around the sun\n",
    "* Voyager 1's velocity relative to the observatory as it rises and sets due to Earth's rotation\n",
    "\n",
    "The first case, Voyager's velocity relative to the sun, is pretty static at this point -- no more thrust is being added to Voyager's trajectory, so it's not changing much (although interestingly there are some very small discrepancies from the expected velocity profile)\n",
    "\n",
    "As Earth rotates around the sun once per year, its velocity relative to Voyager will change. Half the year it will be moving somewhat towards Voyager, and half the year away. Voyager's trajectory isn't collinear with Earth's orbital plane, so the magnitude of this effect is not exactly Earth's speed around the sun.\n",
    "\n",
    "Viewed from an Earth observer's perspective, the Sun (or any other object in the sky) is moving toward you as it rises in the sky, and away from you as it sets. This effect causes a diurnal (once per day) change in Doppler shift, and also causes a further complication: the Doppler shift is likely to change over the course of your recording! If not compensated for, this will result in the energy coming from Voyager, which we want to be a nice spike in a single bin (from the carrier tone Voyager continually broadcasts), being smeared across multiple bins and thus much harder to detect.\n",
    "\n",
    "We need to be able to calculate the magnitudes of the three velocities given above. Luckily, NASA JPL maintains a public-access tool called <a href=\"https://ssd.jpl.nasa.gov/?horizons\">HORIZONS</a> to do exactly this. HORIZONS has accurate ephemerides (a set of numbers giving the position and velocity of an astronomical object) for a whole slew of man-made and astronomical objects. It also calculates relative velocities for any two objects, given the time of interest. It does a whole heck of a lot more than that, actually, but that's all we care about here. Even more luckily, there's a Python component for retrieving and parsing HORIZONS data.\n",
    "\n",
    "So, we go out to HORIZONS, see where Earth and Voyager were relative to each other on July 14, 2010, and then we calculate an expected Doppler shift as well as the *drift* in that shift over the course of the recording. For the purposes of this notebook, we rely on a linear approximation of Doppler shift over the course of the recording. This is fine for recordings of an hour or so, but if you're really doing all-night observations of an astronomical target you probably want to account for this effect more precisely.\n",
    "\n",
    "Once we have a Doppler shift profile, we go back to the original data and de-Doppler it so that hopefully the energy lies in a single bin. But, especially for long recordings and weak signals, this isn't quite accurate enough for good results! To maximize the height of the spike in our plot, which is always the goal of any communications engineer, we use the expected Doppler drift rate as the center point in a search pattern: we just try a bunch of candidate drift rates centered around the expected rate, and hope that one of them will be close enough to integrate cleanly without smearing the energy too much. If we've done things correctly, we should see the spike highest at or near the expected drift rate.\n",
    "\n",
    "The following Python packages are necessary to run this notebook:\n",
    "\n",
    "* Scipy\n",
    "* Matplotlib/pyplot\n",
    "* AstroPy (used for Julian date math)\n",
    "* AstroQuery (used for downloading and processing ephemerides)"
   ]
  },
  {
   "cell_type": "code",
   "execution_count": 32,
   "metadata": {},
   "outputs": [],
   "source": [
    "import scipy.signal\n",
    "import scipy.fftpack\n",
    "import numpy as np\n",
    "import struct\n",
    "import matplotlib.pyplot as plt\n",
    "import math\n",
    "import multiprocessing\n",
    "import json\n",
    "from astropy.time import Time,TimeDelta\n",
    "from astroquery.jplhorizons import Horizons"
   ]
  },
  {
   "cell_type": "markdown",
   "metadata": {},
   "source": [
    "<h2>Parameters</h2>\n",
    "The processing parameters for the notebook are below. The values given are a good place to start, but do play with them!"
   ]
  },
  {
   "cell_type": "code",
   "execution_count": 23,
   "metadata": {},
   "outputs": [],
   "source": [
    "metaname = 'vger1-2010-07-14-xpol.sigmf-meta'\n",
    "filename = 'vger1-2010-07-14-xpol.sigmf-data'\n",
    "sig_ctr = 8420.432097e6 #Voyager 1 center freq\n",
    "observatory_code = -72 #set to -72 for HCRO, -9 for GBT\n",
    "start_time = 0\n",
    "end_time = 55\n",
    "fftlen = 32768 #fftlen is FFT length on decimated data\n",
    "bin_target = 1.0 #frequency bin size (data will be decimated to this bin width)"
   ]
  },
  {
   "cell_type": "markdown",
   "metadata": {},
   "source": [
    "<h2>Loading metadata</h2>\n",
    "This is a very very simple <a href=\"https://github.com/gnuradio/SigMF\">SigMF</a> parser, to get the necessary fields from the accompanying metadata file."
   ]
  },
  {
   "cell_type": "code",
   "execution_count": 24,
   "metadata": {},
   "outputs": [],
   "source": [
    "metadata = {}\n",
    "with open(metaname, 'r') as mf:\n",
    "    metajson = json.load(mf)\n",
    "    metadata[\"samp_rate\"] = float(metajson[\"global\"][\"core:sample_rate\"])\n",
    "    if metadata[\"samp_rate\"] < 0:\n",
    "        invert_spectrum=True\n",
    "        metadata[\"samp_rate\"] = abs(metadata[\"samp_rate\"])\n",
    "    else:\n",
    "        invert_spectrum=False\n",
    "    metadata[\"frequency\"] = float(metajson[\"captures\"][0][\"core:frequency\"])\n",
    "    metadata[\"date\"] = metajson[\"captures\"][0][\"core:datetime\"]\n",
    "    metadata[\"format\"] = {\"ci16\": np.int16, \"ci8_be\": np.int8}[metajson[\"global\"][\"core:datatype\"]]"
   ]
  },
  {
   "cell_type": "markdown",
   "metadata": {},
   "source": [
    "<h2>Going out to Horizons and calculating shifts and drifts</h2>\n",
    "\n",
    "We use the SigMF recording data and the desired length of integration to calculate start and end times of interest. Then we go out to HORIZONS to get a good guess as to what the total Doppler shift will be, as well as how it will change over the course of the recording.\n",
    "\n",
    "We're looking at 21 (odd number so that the center guess is present) candidate drift rates here."
   ]
  },
  {
   "cell_type": "code",
   "execution_count": 25,
   "metadata": {},
   "outputs": [
    {
     "name": "stdout",
     "output_type": "stream",
     "text": [
      "Estimated center frequency: 8419545157.97\n",
      "Estimated Doppler drift rate: -0.480/s\n",
      "Looking at 21 drift rates between -0.5802Hz/s and -0.3802Hz/s\n"
     ]
    }
   ],
   "source": [
    "rec_ctr   = metadata[\"frequency\"] #center frequency of the recording\n",
    "c = 2.99792458e8\n",
    "nsecs = end_time-start_time #total amount of time to read from the file -- integration time\n",
    "\n",
    "starttime = Time(metadata[\"date\"], format=\"isot\")+TimeDelta(start_time, format=\"sec\")\n",
    "doppler_deltat = 600 #time duration to use in Doppler drift estimate\n",
    "jdtimes = [starttime, starttime+TimeDelta(doppler_deltat,format=\"sec\")]\n",
    "query = Horizons(id=\"Voyager 1\",\n",
    "                 location=\"%s\" % observatory_code,\n",
    "                 epochs=[jdtime.jd for jdtime in jdtimes],\n",
    "                 id_type=\"majorbody\")\n",
    "eph = query.ephemerides()\n",
    "dopplers = [sig_ctr*(c/(c+1000*i['delta_rate'])) for i in eph]\n",
    "sig_start = dopplers[0]\n",
    "drift_est = (dopplers[1]-dopplers[0])/doppler_deltat\n",
    "offset = sig_start-rec_ctr #offset frequency at the start of the recording\n",
    "candidate_drifts = np.linspace(drift_est-0.1, drift_est+0.1, 21)\n",
    "print(\"Estimated center frequency: %.2f\" % sig_start)\n",
    "print(\"Estimated Doppler drift rate: %.3f/s\" % drift_est)\n",
    "print(\"Looking at %i drift rates between %.4fHz/s and %.4fHz/s\" % (len(candidate_drifts), candidate_drifts[0], candidate_drifts[-1]))"
   ]
  },
  {
   "cell_type": "markdown",
   "metadata": {},
   "source": [
    "<h2>Calculate integration length and number of integrations</h2>\n",
    "Based on the sample rate, number of FFT bins, desired bin width, and length of the recording, we calculate a decimation factor necessary to achieve that bin width. Play with the bin width and number of bins parameters above to see the effects of changing these parameters."
   ]
  },
  {
   "cell_type": "code",
   "execution_count": 26,
   "metadata": {},
   "outputs": [
    {
     "name": "stdout",
     "output_type": "stream",
     "text": [
      "Number of integrations: 57\n",
      "Time per integration: 0.96s\n",
      "FFT length: 32768\n",
      "Decimation factor: 16\n",
      "Bin size: 1.04\n"
     ]
    }
   ],
   "source": [
    "samplesize=np.dtype(metadata[\"format\"]).itemsize\n",
    "samp_rate = metadata[\"samp_rate\"]\n",
    "decim_rate = int(samp_rate/(bin_target*fftlen))\n",
    "num_integrations = int(samp_rate*nsecs/decim_rate/fftlen)\n",
    "print(\"Number of integrations: %i\" % num_integrations)\n",
    "input_veclen = int(fftlen * decim_rate)\n",
    "print(\"Time per integration: %.2fs\" % (fftlen*decim_rate/samp_rate))\n",
    "print(\"FFT length: %i\" % fftlen)\n",
    "print(\"Decimation factor: %i\" % decim_rate)\n",
    "bin_size = samp_rate/fftlen/decim_rate\n",
    "print(\"Bin size: %.2f\" % bin_size)"
   ]
  },
  {
   "cell_type": "markdown",
   "metadata": {},
   "source": [
    "<h2>Doppler-correct and integrate!</h2>\n",
    "This is the core of the notebook. It's presented as a routine so that we can parallelize the integrations, one for each candidate drift rate. There's a lot here, so let's take it slow.\n",
    "\n",
    "First, we open the data file, and we move to the offset corresponding to the desired start time. Then we perform a number of integrations, each of which will be \"stacked\" on top of each other to produce a result. This is akin to stacking photographs in astrophotography; by doing so, weak signals will become more pronounced.\n",
    "\n",
    "Some files are \"IQ swapped\", or spectrally inverted (i.e., -100Hz is actually 100Hz), so we account for that by performing a complex conjugation on the data if necessary.\n",
    "\n",
    "Take a look at \"freqvec\" below. It's creating a map of Doppler shifts, over the length of time corresponding to the integration. We use the map to construct a signal, effectively a carrier whose frequency changes over the recording. We then mix this signal with the recording to de-Doppler the recording -- multiplication is a frequency mixing operation -- hopefully desmearing the frequency peak we're looking for.\n",
    "\n",
    "Then we decimate the result, downsampling it to a more convenient sample rate, and perform an FFT on it. The best FFT window for this purpose is simply a rectangle, created by np.ones(), since the signal is continuous. You should try changing the window to another common window, the Blackman window, by uncommenting the first \"W = \" and commenting the second.\n",
    "\n",
    "The magnitude of the FFT gets stored in a vector for stacking, and then the stacked result is returned along with the drift rate and peak magnitude."
   ]
  },
  {
   "cell_type": "code",
   "execution_count": 28,
   "metadata": {},
   "outputs": [],
   "source": [
    "def try_acquisition(drift):\n",
    "    #we'll store integrations here\n",
    "    f = open(filename, 'rb')\n",
    "    sumvector = np.zeros(fftlen, dtype=np.complex128)\n",
    "    f.seek(int(start_time*samp_rate*samplesize*2))\n",
    "    for i in range(num_integrations):\n",
    "        vec = np.frombuffer(f.read(input_veclen*2*samplesize), dtype=metadata[\"format\"]).astype(np.float64)/(2**(samplesize*8))\n",
    "        cvec = vec.view(np.complex128)\n",
    "        if invert_spectrum:\n",
    "            cvec = np.conj(cvec)\n",
    "        freqvec = np.linspace(offset+drift*i*input_veclen/samp_rate,\n",
    "                            offset+drift*(i+1)*input_veclen/samp_rate,\n",
    "                            input_veclen)\n",
    "        freqshiftvec = np.exp(1j*(-2*math.pi*freqvec*np.arange(input_veclen)/samp_rate))\n",
    "        rvec = cvec * freqshiftvec\n",
    "        if(decim_rate > 1):\n",
    "            dvec = scipy.signal.resample_poly(rvec, 1, decim_rate)\n",
    "        else:\n",
    "            dvec = rvec\n",
    "        #W = scipy.signal.blackman(len(dvec))\n",
    "        W = np.ones(fftlen)\n",
    "        H = scipy.fftpack.fft(dvec*W, len(dvec))\n",
    "        Ha = scipy.fftpack.fftshift(H)\n",
    "        sumvector += np.abs(Ha)\n",
    "\n",
    "    Hl = 20*np.log10(np.abs(sumvector))\n",
    "    peak = np.max(Hl)\n",
    "    print(\"Drift %.3f: %.2fdB\" % (drift, peak))\n",
    "    return (drift, peak, Hl)"
   ]
  },
  {
   "cell_type": "markdown",
   "metadata": {},
   "source": [
    "<h2>Run the analysis</h2>\n",
    "We use Python's <b>multiprocessing</b> module to parallelize the search. This speeds things up drastically on multicore machines."
   ]
  },
  {
   "cell_type": "code",
   "execution_count": 29,
   "metadata": {},
   "outputs": [
    {
     "name": "stdout",
     "output_type": "stream",
     "text": [
      "Drift -0.520: 11.07dB\n",
      "Drift -0.500: 12.22dB\n",
      "Drift -0.540: 11.40dB\n",
      "Drift -0.580: 10.19dB\n",
      "Drift -0.560: 10.14dB\n",
      "Drift -0.490: 12.95dB\n",
      "Drift -0.570: 10.63dB\n",
      "Drift -0.550: 10.37dB\n",
      "Drift -0.510: 11.88dB\n",
      "Drift -0.530: 11.55dB\n",
      "Drift -0.480: 14.49dB\n",
      "Drift -0.440: 12.61dB\n",
      "Drift -0.400: 10.64dB\n",
      "Drift -0.460: 12.28dB\n",
      "Drift -0.420: 11.14dB\n",
      "Drift -0.470: 14.13dB\n",
      "Drift -0.430: 11.64dB\n",
      "Drift -0.390: 10.59dB\n",
      "Drift -0.450: 13.04dB\n",
      "Drift -0.410: 10.51dB\n",
      "Drift -0.380: 10.22dB\n",
      "Done.\n"
     ]
    }
   ],
   "source": [
    "p = multiprocessing.Pool(5)\n",
    "correlations = p.map(try_acquisition, candidate_drifts)\n",
    "print(\"Done.\")"
   ]
  },
  {
   "cell_type": "markdown",
   "metadata": {},
   "source": [
    "<h2>Calculate carrier-to-noise-ratio</h2>\n",
    "The best result should be the one with the highest correlation magnitude. Given that, we attempt to calculate a carrier-power-to-noise-power ratio in dB, and then find the frequency offset (from the Voyager 1 carrier frequency given above) of the carrier itself. This produces a somewhat surprising result: Voyager 1 is 3.4kHz off its center frequency! Why is this? Well, space is a tough environment for electronics, and Voyager 1 has been out there a <i>long</i> time. Some years ago, Voyager 1's <a href=\"https://descanso.jpl.nasa.gov/DPSummary/Descanso4--Voyager_new.pdf\">precision frequency reference</a> quit working, and it's now using a less accurate oscillator as its frequency reference.\n",
    "\n",
    "Also, hey, let's be clear, 3.4kHz at 8.4GHz is 4e-7, or 0.4ppm frequency accuracy. In the grand scheme of things this is pretty dang good!"
   ]
  },
  {
   "cell_type": "code",
   "execution_count": 33,
   "metadata": {},
   "outputs": [
    {
     "name": "stdout",
     "output_type": "stream",
     "text": [
      "Best candidate carrier found at -3402.71Hz offset\n",
      "Best drift rate: -0.48020Hz/s\n",
      "Best correlation: 14.49dB\n",
      "Best noise power: 7.10dB\n",
      "Best C/N0: 7.39dB (7.70dBHz)\n"
     ]
    }
   ],
   "source": [
    "best = max(correlations,key=lambda x: x[1])\n",
    "best_drift = best[0]\n",
    "best_corr  = best[1]\n",
    "Hl = best[2]\n",
    "freqs = np.linspace(-samp_rate/decim_rate/2, samp_rate/decim_rate/2, fftlen)\n",
    "c_index = Hl.tolist().index(best_corr)\n",
    "c_offset = freqs[c_index]\n",
    "N0_arr = np.delete(Hl, c_index)\n",
    "N0 = 10*np.log10(np.sum(10**(N0_arr/10))/fftlen) #this should exclude the signal bin, to be exact\n",
    "best_cn0 = best_corr - N0\n",
    "\n",
    "print(\"Best candidate carrier found at %.2fHz offset\" % c_offset)\n",
    "print(\"Best drift rate: %.5fHz/s\" % best_drift)\n",
    "print(\"Best correlation: %.2fdB\" % best_corr)\n",
    "print(\"Best noise power: %.2fdB\" % N0)\n",
    "print(\"Best C/N0: %.2fdB (%.2fdBHz)\" % (best_cn0, best_cn0*bin_size))"
   ]
  },
  {
   "cell_type": "markdown",
   "metadata": {},
   "source": [
    "I'm not going to brag or anything, but here's the Voyager 1 carrier, <i>right</i> where we expected it to be in terms of Doppler drift rate (see above, where we calculated it from HORIZONS data). What this means is that, whatever the signal is that we're looking at, it's definitely astronomical in nature. An Earth-originating signal is vanishingly unlikely to just happen to be found drifting at this rate. It's also very likely to be in the same general area of the sky as Voyager 1, since other parts of the sky will have different drift rates relative to the rotation of the Earth. So that's good!\n",
    "\n",
    "<h2>Plotting</h2>\n",
    "Since the purpose of Jupyter notebooks is pretty pictures, let's make one showing the Voyager signal! Here we have a simple plot which overlays all the spectrograms produced by integrating the FFTs with each of the candidate drift rates. What we see is exactly what we expect to see: the expected drift rate of -0.480Hz/s produces a sharp peak, drift rates close to the expected one produce lower peaks spread out in frequency, and the rest produce basically nothing at all."
   ]
  },
  {
   "cell_type": "code",
   "execution_count": 31,
   "metadata": {},
   "outputs": [
    {
     "data": {
      "text/plain": [
       "<Figure size 432x288 with 0 Axes>"
      ]
     },
     "metadata": {},
     "output_type": "display_data"
    },
    {
     "data": {
      "image/png": "[encoded data removed]",
      "text/plain": [
       "<Figure size 432x288 with 1 Axes>"
      ]
     },
     "metadata": {
      "needs_background": "light"
     },
     "output_type": "display_data"
    }
   ],
   "source": [
    "plt.clf()\n",
    "fig,ax = plt.subplots()\n",
    "box = ax.get_position()\n",
    "ax.set_position([box.x0, box.y0, box.width*0.8, box.height])\n",
    "plt.plot(freqs, Hl, color='blue', label=\"%.3f\" % best_drift)\n",
    "plt.xlim(c_offset-50, c_offset+50)\n",
    "for p in correlations:\n",
    "    plt.plot(freqs, p[2], alpha=0.2, label=\"%.3f\" % p[0])\n",
    "plt.ylabel('relative magnitude (dB)')\n",
    "plt.xlabel('frequency (Hz)')\n",
    "plt.hlines(N0, min(freqs), max(freqs), color='red', alpha=0.8, linestyle='dashed')\n",
    "plt.legend(loc='center left', bbox_to_anchor=(1,0.5))\n",
    "plt.show()"
   ]
  },
  {
   "cell_type": "code",
   "execution_count": null,
   "metadata": {},
   "outputs": [],
   "source": []
  },
  {
   "cell_type": "code",
   "execution_count": null,
   "metadata": {},
   "outputs": [],
   "source": []
  }
 ],
 "metadata": {
  "kernelspec": {
   "display_name": "Python 3",
   "language": "python",
   "name": "python3"
  },
  "language_info": {
   "codemirror_mode": {
    "name": "ipython",
    "version": 3
   },
   "file_extension": ".py",
   "mimetype": "text/x-python",
   "name": "python",
   "nbconvert_exporter": "python",
   "pygments_lexer": "ipython3",
   "version": "3.6.8"
  }
 },
 "nbformat": 4,
 "nbformat_minor": 2
}
