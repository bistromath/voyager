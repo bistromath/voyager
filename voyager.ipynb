{
 "cells": [
  {
   "cell_type": "code",
   "execution_count": 12,
   "metadata": {},
   "outputs": [],
   "source": [
    "#%matplotlib widget\n",
    "#see https://stackoverflow.com/questions/50149562/jupyterlab-interactive-plot for how to zoom on plots!"
   ]
  },
  {
   "cell_type": "code",
   "execution_count": 2,
   "metadata": {},
   "outputs": [
    {
     "name": "stderr",
     "output_type": "stream",
     "text": [
      "WARNING: AstropyDeprecationWarning: astropy.extern.six will be removed in 4.0, use the six module directly if it is still needed [astropy.extern.six]\n"
     ]
    }
   ],
   "source": [
    "import scipy.signal\n",
    "import scipy.fftpack\n",
    "import numpy as np\n",
    "import struct\n",
    "import matplotlib.pyplot as plt\n",
    "import math\n",
    "import multiprocessing\n",
    "import json\n",
    "from astropy.time import Time,TimeDelta\n",
    "from astroquery.jplhorizons import Horizons"
   ]
  },
  {
   "cell_type": "code",
   "execution_count": 3,
   "metadata": {},
   "outputs": [],
   "source": [
    "metaname = 'vger1-2010-07-14-xpol.sigmf-meta'\n",
    "filename = 'vger1-2010-07-14-xpol.sigmf-data'\n",
    "#metaname = 'blc07_guppi_57650_67573_Voyager1_pol1.sigmf-meta'\n",
    "#filename = 'blc07_guppi_57650_67573_Voyager1_pol1.sigmf-data'\n",
    "observatory_code = -72 #set to -72 for HCRO, -9 for GBT"
   ]
  },
  {
   "cell_type": "code",
   "execution_count": 4,
   "metadata": {},
   "outputs": [],
   "source": [
    "start_time = 0\n",
    "end_time = 55\n",
    "nsecs = end_time-start_time #total amount of time to read from the file -- integration time\n",
    "fftlen = 32768 #fftlen is FFT length on decimated data\n",
    "bin_target = 1.0 #frequency bin size (data will be decimated to this bin width)"
   ]
  },
  {
   "cell_type": "code",
   "execution_count": 5,
   "metadata": {},
   "outputs": [],
   "source": [
    "metadata = {}\n",
    "with open(metaname, 'r') as mf:\n",
    "    metajson = json.load(mf)\n",
    "    metadata[\"samp_rate\"] = float(metajson[\"global\"][\"core:sample_rate\"])\n",
    "    if metadata[\"samp_rate\"] < 0:\n",
    "        invert_spectrum=True\n",
    "        metadata[\"samp_rate\"] = abs(metadata[\"samp_rate\"])\n",
    "    else:\n",
    "        invert_spectrum=False\n",
    "    metadata[\"frequency\"] = float(metajson[\"captures\"][0][\"core:frequency\"])\n",
    "    metadata[\"date\"] = metajson[\"captures\"][0][\"core:datetime\"]\n",
    "    metadata[\"format\"] = {\"ci16\": np.int16, \"ci8_be\": np.int8}[metajson[\"global\"][\"core:datatype\"]]"
   ]
  },
  {
   "cell_type": "code",
   "execution_count": 6,
   "metadata": {},
   "outputs": [
    {
     "name": "stdout",
     "output_type": "stream",
     "text": [
      "Estimated center frequency: 8419545157.97\n",
      "Estimated Doppler drift rate: -0.480/s\n",
      "Looking at 20 drift rates between -0.5802Hz/s and -0.3802Hz/s\n"
     ]
    }
   ],
   "source": [
    "sig_ctr = 8420.432097e6 #Voyager 1 center freq\n",
    "rec_ctr   = metadata[\"frequency\"] #center frequency of the recording\n",
    "c = 2.99792458e8\n",
    "\n",
    "starttime = Time(metadata[\"date\"], format=\"isot\")+TimeDelta(start_time, format=\"sec\")\n",
    "doppler_deltat = 600 #time duration to use in Doppler drift estimate\n",
    "jdtimes = [starttime, starttime+TimeDelta(doppler_deltat,format=\"sec\")]\n",
    "query = Horizons(id=\"Voyager 1\",\n",
    "                 location=\"%s\" % observatory_code,\n",
    "                 epochs=[jdtime.jd for jdtime in jdtimes],\n",
    "                 id_type=\"majorbody\")\n",
    "eph = query.ephemerides()\n",
    "dopplers = [sig_ctr*(c/(c+1000*i['delta_rate'])) for i in eph]\n",
    "sig_start = dopplers[0]\n",
    "drift_est = (dopplers[1]-dopplers[0])/doppler_deltat\n",
    "offset = sig_start-rec_ctr #offset frequency at the start of the recording\n",
    "candidate_drifts = np.linspace(drift_est-0.1, drift_est+0.1, 20)\n",
    "print(\"Estimated center frequency: %.2f\" % sig_start)\n",
    "print(\"Estimated Doppler drift rate: %.3f/s\" % drift_est)\n",
    "print(\"Looking at %i drift rates between %.4fHz/s and %.4fHz/s\" % (len(candidate_drifts), candidate_drifts[0], candidate_drifts[-1]))"
   ]
  },
  {
   "cell_type": "code",
   "execution_count": 7,
   "metadata": {},
   "outputs": [
    {
     "name": "stdout",
     "output_type": "stream",
     "text": [
      "Number of integrations: 57\n",
      "Time per integration: 0.96s\n",
      "FFT length: 32768\n",
      "Decimation factor: 16\n",
      "Bin size: 1.04\n"
     ]
    }
   ],
   "source": [
    "samplesize=np.dtype(metadata[\"format\"]).itemsize\n",
    "samp_rate = metadata[\"samp_rate\"]\n",
    "decim_rate = int(samp_rate/(bin_target*fftlen))\n",
    "num_integrations = int(samp_rate*nsecs/decim_rate/fftlen)\n",
    "print(\"Number of integrations: %i\" % num_integrations)\n",
    "input_veclen = int(fftlen * decim_rate)\n",
    "print(\"Time per integration: %.2fs\" % (fftlen*decim_rate/samp_rate))\n",
    "print(\"FFT length: %i\" % fftlen)\n",
    "print(\"Decimation factor: %i\" % decim_rate)\n",
    "bin_size = samp_rate/fftlen/decim_rate\n",
    "print(\"Bin size: %.2f\" % bin_size)"
   ]
  },
  {
   "cell_type": "code",
   "execution_count": 8,
   "metadata": {},
   "outputs": [],
   "source": [
    "def try_acquisition(drift):\n",
    "    #we'll store integrations here\n",
    "    f = open(filename, 'rb')\n",
    "    sumvector = np.zeros(fftlen, dtype=np.complex128)\n",
    "    f.seek(int(start_time*samp_rate*samplesize*2))\n",
    "    for i in range(num_integrations):\n",
    "        vec = np.fromstring(f.read(input_veclen*2*samplesize), dtype=metadata[\"format\"]).astype(np.float64)/(2**(samplesize*8))\n",
    "        cvec = vec.view(np.complex128)\n",
    "        if invert_spectrum:\n",
    "            cvec = np.conj(cvec)\n",
    "        freqvec = np.linspace(offset+drift*i*input_veclen/samp_rate,\n",
    "                            offset+drift*(i+1)*input_veclen/samp_rate,\n",
    "                            input_veclen)\n",
    "        freqshiftvec = np.exp(1j*(-2*math.pi*freqvec*np.arange(input_veclen)/samp_rate))\n",
    "        rvec = cvec * freqshiftvec\n",
    "        if(decim_rate > 1):\n",
    "            dvec = scipy.signal.resample_poly(rvec, 1, decim_rate)\n",
    "        else:\n",
    "            dvec = rvec\n",
    "        #W = scipy.signal.blackman(len(dvec))\n",
    "        W = np.ones(fftlen)\n",
    "        H = scipy.fftpack.fft(dvec*W, len(dvec))\n",
    "        Ha = scipy.fftpack.fftshift(H)\n",
    "        sumvector += np.abs(Ha)\n",
    "\n",
    "    Hl = 20*np.log10(np.abs(sumvector))\n",
    "    peak = np.max(Hl)\n",
    "    print(\"Drift %.3f: %.2fdB\" % (drift, peak))\n",
    "    return (drift, peak, Hl)"
   ]
  },
  {
   "cell_type": "code",
   "execution_count": 9,
   "metadata": {},
   "outputs": [
    {
     "name": "stderr",
     "output_type": "stream",
     "text": [
      "/home/nick/.local/lib/python3.6/site-packages/ipykernel_launcher.py:7: DeprecationWarning: The binary mode of fromstring is deprecated, as it behaves surprisingly on unicode inputs. Use frombuffer instead\n",
      "  import sys\n",
      "/home/nick/.local/lib/python3.6/site-packages/ipykernel_launcher.py:7: DeprecationWarning: The binary mode of fromstring is deprecated, as it behaves surprisingly on unicode inputs. Use frombuffer instead\n",
      "  import sys\n",
      "/home/nick/.local/lib/python3.6/site-packages/ipykernel_launcher.py:7: DeprecationWarning: The binary mode of fromstring is deprecated, as it behaves surprisingly on unicode inputs. Use frombuffer instead\n",
      "  import sys\n",
      "/home/nick/.local/lib/python3.6/site-packages/ipykernel_launcher.py:7: DeprecationWarning: The binary mode of fromstring is deprecated, as it behaves surprisingly on unicode inputs. Use frombuffer instead\n",
      "  import sys\n",
      "/home/nick/.local/lib/python3.6/site-packages/ipykernel_launcher.py:7: DeprecationWarning: The binary mode of fromstring is deprecated, as it behaves surprisingly on unicode inputs. Use frombuffer instead\n",
      "  import sys\n"
     ]
    },
    {
     "name": "stdout",
     "output_type": "stream",
     "text": [
      "Drift -0.549: 10.39dB\n",
      "Drift -0.570: 10.62dB\n",
      "Drift -0.538: 11.56dB\n",
      "Drift -0.580: 10.19dB\n",
      "Drift -0.559: 10.18dB\n",
      "Drift -0.517: 11.16dB\n",
      "Drift -0.528: 11.37dB\n",
      "Drift -0.507: 12.18dB\n",
      "Drift -0.496: 11.86dB\n",
      "Drift -0.485: 13.87dB\n",
      "Drift -0.475: 14.56dB\n",
      "Drift -0.464: 13.13dB\n",
      "Drift -0.454: 12.85dB\n",
      "Drift -0.443: 12.85dB\n",
      "Drift -0.433: 11.90dB\n",
      "Drift -0.401: 10.59dB\n",
      "Drift -0.412: 10.63dB\n",
      "Drift -0.422: 11.21dB\n",
      "Drift -0.391: 10.61dB\n",
      "Drift -0.380: 10.22dB\n",
      "Done.\n"
     ]
    }
   ],
   "source": [
    "p = multiprocessing.Pool(5)\n",
    "correlations = p.map(try_acquisition, candidate_drifts)\n",
    "print(\"Done.\")"
   ]
  },
  {
   "cell_type": "code",
   "execution_count": 10,
   "metadata": {},
   "outputs": [
    {
     "name": "stdout",
     "output_type": "stream",
     "text": [
      "Best candidate carrier found at -3402.71Hz offset\n",
      "Best drift rate: -0.47494Hz/s\n",
      "Best correlation: 14.56dB\n",
      "Best noise power: 7.10dB\n",
      "Best C/N0: 7.46dB (7.77dBHz)\n"
     ]
    }
   ],
   "source": [
    "best = max(correlations,key=lambda x: x[1])\n",
    "best_drift = best[0]\n",
    "best_corr  = best[1]\n",
    "Hl = best[2]\n",
    "freqs = np.linspace(-samp_rate/decim_rate/2, samp_rate/decim_rate/2, fftlen)\n",
    "c_index = Hl.tolist().index(best_corr)\n",
    "c_offset = freqs[c_index]\n",
    "N0_arr = np.delete(Hl, c_index)\n",
    "N0 = 10*np.log10(np.sum(10**(N0_arr/10))/fftlen) #this should exclude the signal bin, to be exact\n",
    "best_cn0 = best_corr - N0\n",
    "\n",
    "print(\"Best candidate carrier found at %.2fHz offset\" % c_offset)\n",
    "print(\"Best drift rate: %.5fHz/s\" % best_drift)\n",
    "print(\"Best correlation: %.2fdB\" % best_corr)\n",
    "print(\"Best noise power: %.2fdB\" % N0)\n",
    "print(\"Best C/N0: %.2fdB (%.2fdBHz)\" % (best_cn0, best_cn0*bin_size))"
   ]
  },
  {
   "cell_type": "code",
   "execution_count": 11,
   "metadata": {},
   "outputs": [
    {
     "data": {
      "text/plain": [
       "<Figure size 432x288 with 0 Axes>"
      ]
     },
     "metadata": {},
     "output_type": "display_data"
    },
    {
     "data": {
      "image/png": "[encoded data removed]",
      "text/plain": [
       "<Figure size 432x288 with 1 Axes>"
      ]
     },
     "metadata": {
      "needs_background": "light"
     },
     "output_type": "display_data"
    }
   ],
   "source": [
    "plt.clf()\n",
    "fig,ax = plt.subplots()\n",
    "box = ax.get_position()\n",
    "ax.set_position([box.x0, box.y0, box.width*0.8, box.height])\n",
    "plt.plot(freqs, Hl, color='blue', label=\"%.3f\" % best_drift)\n",
    "plt.xlim(c_offset-50, c_offset+50)\n",
    "for p in correlations:\n",
    "    plt.plot(freqs, p[2], alpha=0.2, label=\"%.3f\" % p[0])\n",
    "plt.ylabel('relative magnitude (dB)')\n",
    "plt.xlabel('frequency (Hz)')\n",
    "plt.hlines(N0, min(freqs), max(freqs), color='red', alpha=0.8, linestyle='dashed')\n",
    "plt.legend(loc='center left', bbox_to_anchor=(1,0.5))\n",
    "plt.show()"
   ]
  },
  {
   "cell_type": "code",
   "execution_count": null,
   "metadata": {},
   "outputs": [],
   "source": []
  },
  {
   "cell_type": "code",
   "execution_count": null,
   "metadata": {},
   "outputs": [],
   "source": []
  }
 ],
 "metadata": {
  "kernelspec": {
   "display_name": "Python 3",
   "language": "python",
   "name": "python3"
  },
  "language_info": {
   "codemirror_mode": {
    "name": "ipython",
    "version": 3
   },
   "file_extension": ".py",
   "mimetype": "text/x-python",
   "name": "python",
   "nbconvert_exporter": "python",
   "pygments_lexer": "ipython3",
   "version": "3.6.8"
  }
 },
 "nbformat": 4,
 "nbformat_minor": 2
}
